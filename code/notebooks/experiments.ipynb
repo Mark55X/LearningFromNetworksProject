{
 "cells": [
  {
   "cell_type": "markdown",
   "metadata": {},
   "source": [
    "## Script download dati"
   ]
  },
  {
   "cell_type": "code",
   "execution_count": 1,
   "metadata": {},
   "outputs": [],
   "source": [
    "import os\n",
    "import subprocess\n",
    "import zipfile\n",
    "\n",
    "def ensure_folder_exists(folder_path):\n",
    "    \"\"\"Create the folder if it doesn't exist.\"\"\"\n",
    "    if not os.path.exists(folder_path):\n",
    "        os.makedirs(folder_path)\n",
    "\n",
    "def is_folder_empty(folder_path):\n",
    "    \"\"\"Check if the folder is empty.\"\"\"\n",
    "    return len(os.listdir(folder_path)) == 0\n",
    "\n",
    "def download_file(url, output_path):\n",
    "    \"\"\"Download a file from a URL using curl.\"\"\"\n",
    "    try:\n",
    "        subprocess.run([\"curl\", \"-s\", url, \"-o\", output_path], check=True, shell=True)\n",
    "        print(f\"Downloaded: {output_path}\")\n",
    "        return True\n",
    "    except subprocess.CalledProcessError as e:\n",
    "        print(f\"Error during download: {e}\")\n",
    "        return False\n",
    "\n",
    "def extract_zip(file_path, extract_to):\n",
    "    \"\"\"Extract a ZIP file to the specified directory.\"\"\"\n",
    "    try:\n",
    "        with zipfile.ZipFile(file_path, 'r') as zip_ref:\n",
    "            zip_ref.extractall(extract_to)\n",
    "            print(f\"Extracted: {file_path} to {extract_to}\")\n",
    "    except zipfile.BadZipFile as e:\n",
    "        print(f\"Error during extraction: {e}\")"
   ]
  },
  {
   "cell_type": "code",
   "execution_count": 15,
   "metadata": {},
   "outputs": [
    {
     "name": "stdout",
     "output_type": "stream",
     "text": [
      "The folder is not empty. Skipping download.\n",
      "The folder is empty. Starting download...\n",
      "Downloaded: ./csv_files\\USDCTUSD-trades-2020-07.zip\n",
      "Error during extraction: File is not a zip file\n",
      "ZIP file removed after extraction.\n"
     ]
    }
   ],
   "source": [
    "folder_path = \"./csv_files\"\n",
    "ensure_folder_exists(folder_path)\n",
    "\n",
    "if is_folder_empty(folder_path) == False:\n",
    "    print(\"The folder is not empty. Skipping download.\")\n",
    "    exit(1)\n",
    "      \n",
    "print(\"The folder is empty. Starting download...\")\n",
    "\n",
    "base_url = \"https://data.binance.vision/data/spot/monthly/trades/\"\n",
    "url = base_url + \"USDCTUSD/USa.zip\"\n",
    "\n",
    "zip_path = os.path.join(folder_path, \"USDCTUSD-trades-2020-07.zip\")\n",
    "\n",
    "# Download the file\n",
    "download_file(url, zip_path)\n",
    "\n",
    "\n",
    "# Extract the ZIP file\n",
    "extract_zip(zip_path, folder_path)\n",
    "\n",
    "# Optionally, delete the ZIP file after extraction\n",
    "os.remove(zip_path)\n",
    "print(\"ZIP file removed after extraction.\")"
   ]
  },
  {
   "cell_type": "code",
   "execution_count": 16,
   "metadata": {},
   "outputs": [
    {
     "ename": "TypeError",
     "evalue": "combinations() takes at most 2 arguments (3 given)",
     "output_type": "error",
     "traceback": [
      "\u001b[1;31m---------------------------------------------------------------------------\u001b[0m",
      "\u001b[1;31mTypeError\u001b[0m                                 Traceback (most recent call last)",
      "Cell \u001b[1;32mIn[16], line 15\u001b[0m\n\u001b[0;32m     11\u001b[0m base_url \u001b[38;5;241m=\u001b[39m \u001b[38;5;124m\"\u001b[39m\u001b[38;5;124mhttps://data.binance.vision/data/spot/monthly/trades/\u001b[39m\u001b[38;5;124m\"\u001b[39m\n\u001b[0;32m     13\u001b[0m trade_str \u001b[38;5;241m=\u001b[39m \u001b[38;5;124mf\u001b[39m\u001b[38;5;124m\"\u001b[39m\u001b[38;5;132;01m{\u001b[39;00mtrade[\u001b[38;5;241m0\u001b[39m]\u001b[38;5;132;01m}\u001b[39;00m\u001b[38;5;132;01m{\u001b[39;00mtrade[\u001b[38;5;241m1\u001b[39m]\u001b[38;5;132;01m}\u001b[39;00m\u001b[38;5;124m\"\u001b[39m\n\u001b[1;32m---> 15\u001b[0m \u001b[38;5;28;01mfor\u001b[39;00m comb \u001b[38;5;129;01min\u001b[39;00m \u001b[43mcombinations\u001b[49m\u001b[43m(\u001b[49m\u001b[43mmonth\u001b[49m\u001b[43m,\u001b[49m\u001b[43m \u001b[49m\u001b[43myear\u001b[49m\u001b[43m,\u001b[49m\u001b[43m \u001b[49m\u001b[38;5;241;43m2\u001b[39;49m\u001b[43m)\u001b[49m:\n\u001b[0;32m     16\u001b[0m   \u001b[38;5;28mprint\u001b[39m(comb)\n\u001b[0;32m     18\u001b[0m filename \u001b[38;5;241m=\u001b[39m \u001b[38;5;124mf\u001b[39m\u001b[38;5;124m\"\u001b[39m\u001b[38;5;132;01m{\u001b[39;00mtrade_str\u001b[38;5;132;01m}\u001b[39;00m\u001b[38;5;124m-trades-2020-07.zip\u001b[39m\u001b[38;5;124m\"\u001b[39m\n",
      "\u001b[1;31mTypeError\u001b[0m: combinations() takes at most 2 arguments (3 given)"
     ]
    }
   ],
   "source": [
    "from itertools import combinations\n",
    "\n",
    "cryptoNames = [\n",
    "  \"1000SATS\", \"1INCH\", \"1MBABYDOGE\", \"AAVE\",\"ACA\",\"ACE\",\"ACH\",\"ACM\",\"ADA\",\"ADX\",\"AE\",\"AERGO\",\"AEVO\",\"AGI\",\"AGIX\",\"AGLD\",\"AI\",\"AION\",\"AKRO\",\"ALCX\",\"ALGO\",\"ALICE\",\"ALPACA\",\"ALPHA\",\"ALPINE\",\"ALT\",\"AMB\",\"AMP\",\"ANC\",\"ANKR\",\"ANT\",\"ANY\",\"APE\",\"API3\",\"APPC\",\"APT\",\"ARB\",\"AR\",\"ARDR\",\"ARKM\",\"ARPA\",\"ASR\",\"AST\",\"ASTR\",\"ATA\",\"ATM\",\"ATOM\",\"AUCTION\", \"AUDIO\",\"AUTO\",\"AVA\", \"AVAX\", \"C98\", \"CAKE\", \"CATI\", \"CDT\", \"CELO\", \"CELR\", \"CFX\", \"CHAT\", \"CHESS\",   \"CHR\", \"CHZ\", \"CITY\", \"CKB\", \"CLOAK\", \"CLV\", \"CMT\", \"CND\", \"COCOS\",   \"COMBO\", \"COMP\", \"COS\", \"COTI\", \"COVER\", \"CREAM\", \"CRV\", \"CTK\", \"CTR\",   \"CTSI\", \"CTXC\", \"CVC\", \"CVP\", \"CVX\", \"CYBER\", \"DAI\", \"DAR\", \"DASH\",   \"DATA\", \"DCR\", \"DEGO\", \"DENT\", \"DEXE\", \"DF\", \"DGB\", \"DGD\", \"DIA\",   \"DLT\", \"DNT\", \"DOCK\", \"DODO\", \"DOGE\", \"DOGS\", \"DOT\", \"DREP\", \"DUSK\",   \"DYDX\", \"DYM\", \"EASY\", \"EDO\", \"EDU\", \"EGLD\", \"ELC\", \"ELF\", \"ENA\",   \"ENG\", \"ENJ\"\n",
    "]\n",
    "\n",
    "month = [\"01\", \"02\", \"03\", \"04\", \"05\", \"06\", \"07\", \"08\", \"09\", \"10\", \"11\", \"12\"]\n",
    "year = [\"2020\", \"2021\", \"2022\", \"2023\", \"2024\"]\n",
    "\n",
    "for trade in combinations(cryptoNames, 2):\n",
    "    base_url = \"https://data.binance.vision/data/spot/monthly/trades/\"\n",
    "    \n",
    "    trade_str = f\"{trade[0]}{trade[1]}\"\n",
    "    \n",
    "    for comb in combinations(month, year, 2):\n",
    "      print(comb)\n",
    "    \n",
    "    filename = f\"{trade_str}-trades-2020-07.zip\"\n",
    "    url = base_url + f\"{trade_str}/\" + filename\n",
    "    \n",
    "    zip_path = os.path.join(folder_path, filename)\n",
    "    \n",
    "    # Download the file\n",
    "    if(download_file(url, zip_path) == False):\n",
    "        continue\n",
    "      \n",
    "    # Extract the ZIP file\n",
    "    extract_zip(zip_path, folder_path)\n",
    "    os.remove(zip_path)\n",
    "    \n"
   ]
  }
 ],
 "metadata": {
  "kernelspec": {
   "display_name": "Python 3",
   "language": "python",
   "name": "python3"
  },
  "language_info": {
   "codemirror_mode": {
    "name": "ipython",
    "version": 3
   },
   "file_extension": ".py",
   "mimetype": "text/x-python",
   "name": "python",
   "nbconvert_exporter": "python",
   "pygments_lexer": "ipython3",
   "version": "3.9.0"
  }
 },
 "nbformat": 4,
 "nbformat_minor": 2
}
